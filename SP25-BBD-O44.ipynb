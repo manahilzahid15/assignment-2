{
 "cells": [
  {
   "cell_type": "code",
   "execution_count": 1,
   "id": "943f17c4-7d6c-4b99-9a2d-cbc875e4ed28",
   "metadata": {},
   "outputs": [
    {
     "name": "stdin",
     "output_type": "stream",
     "text": [
      "enter a number: 4\n"
     ]
    },
    {
     "name": "stdout",
     "output_type": "stream",
     "text": [
      "the num is positive\n"
     ]
    }
   ],
   "source": [
    "# QUESTION 1\n",
    "num =  float(input(\"enter a number:\"))\n",
    "if num > 0:\n",
    "   print(\"the num is positive\")\n",
    "elif num < 0:\n",
    "  print(\"the num is negative\")\n",
    "else:\n",
    "  print(\"the num is zero\")\n"
   ]
  },
  {
   "cell_type": "code",
   "execution_count": 3,
   "id": "7191297e-43fa-4a58-b2d0-fc438032ea5c",
   "metadata": {},
   "outputs": [
    {
     "name": "stdin",
     "output_type": "stream",
     "text": [
      "enter a year 2006\n"
     ]
    },
    {
     "name": "stdout",
     "output_type": "stream",
     "text": [
      "2006 is not a leap year\n"
     ]
    }
   ],
   "source": [
    "# QUESTION 2\n",
    "year = int(input(\"enter a year\"))\n",
    "if (year % 4 == 0 and year % 100 != 0) or (year % 400 == 0):\n",
    " print(f\"{year} is a leap year\")\n",
    "else:\n",
    " print (f\"{year} is not a leap year\")"
   ]
  },
  {
   "cell_type": "code",
   "execution_count": 5,
   "id": "4ea01ad1-3bec-4149-87cf-e842903c2095",
   "metadata": {},
   "outputs": [
    {
     "name": "stdin",
     "output_type": "stream",
     "text": [
      "enter first num 2\n",
      "enter second num 2\n",
      "enter operator -\n"
     ]
    },
    {
     "name": "stdout",
     "output_type": "stream",
     "text": [
      "result is 0.0\n"
     ]
    }
   ],
   "source": [
    "# QUESTION 3\n",
    "num1 = float(input(\"enter first num\"))\n",
    "num2 = float(input(\"enter second num\"))\n",
    "operator = input(\"enter operator\")\n",
    "if operator == \"+\" :\n",
    "    print(\"result is\", num1 + num2)\n",
    "elif operator == \"-\" :\n",
    "    print(\"result is\", num1 - num2)\n",
    "elif opeartor == \"*\" :\n",
    "    print(\"result is\", num1 * num2)\n",
    "elif operator == \"/\" :\n",
    "    if num2 != 0:\n",
    "      print(\"result is \", num1 / num2)\n",
    "    else:\n",
    "     print(\"cannot dvidie by 0\")\n",
    "\n",
    "else:\n",
    "    print(\"invalid operator\")\n",
    "    "
   ]
  },
  {
   "cell_type": "code",
   "execution_count": 7,
   "id": "a963339d-348f-4bdd-8d54-1dc61f2c10cc",
   "metadata": {},
   "outputs": [
    {
     "name": "stdin",
     "output_type": "stream",
     "text": [
      "Enter the student's marks:  83\n"
     ]
    },
    {
     "name": "stdout",
     "output_type": "stream",
     "text": [
      "Grade: B\n"
     ]
    }
   ],
   "source": [
    "# QUESTION 4\n",
    "marks = float(input(\"Enter the student's marks: \"))\n",
    "\n",
    "if marks >= 85:\n",
    "    print(\"Grade: A\")\n",
    "elif marks >= 70:\n",
    "    print(\"Grade: B\")\n",
    "elif marks >= 50:\n",
    "    print(\"Grade: C\")\n",
    "else:\n",
    "    print(\"Grade: F\")\n"
   ]
  },
  {
   "cell_type": "code",
   "execution_count": 9,
   "id": "615e818c-5b10-4b27-b40e-e1ef0fe57397",
   "metadata": {},
   "outputs": [
    {
     "name": "stdin",
     "output_type": "stream",
     "text": [
      "Enter your age:  18\n",
      "Enter your income:  300\n"
     ]
    },
    {
     "name": "stdout",
     "output_type": "stream",
     "text": [
      "Not eligible.\n"
     ]
    }
   ],
   "source": [
    "# QUESTION 5\n",
    "age = int(input(\"Enter your age: \"))\n",
    "income = float(input(\"Enter your income: \"))\n",
    "\n",
    "if age >= 21 and income > 25000:\n",
    "    print(\"Eligible for membership.\")\n",
    "else:\n",
    "    print(\"Not eligible.\")\n"
   ]
  },
  {
   "cell_type": "code",
   "execution_count": 13,
   "id": "058c9951-87ef-4c83-b670-751227b09698",
   "metadata": {},
   "outputs": [
    {
     "name": "stdin",
     "output_type": "stream",
     "text": [
      "Enter a number:  4\n"
     ]
    },
    {
     "name": "stdout",
     "output_type": "stream",
     "text": [
      "4\n"
     ]
    }
   ],
   "source": [
    "# QUESTION 6\n",
    "num = int(input(\"Enter a number: \"))\n",
    "\n",
    "if num % 3 == 0 and num % 5 == 0:\n",
    "    print(\"FizzBuzz\")\n",
    "elif num % 3 == 0:\n",
    "    print(\"Fizz\")\n",
    "elif num % 5 == 0:\n",
    "    print(\"Buzz\")\n",
    "else:\n",
    "    print(num)"
   ]
  },
  {
   "cell_type": "code",
   "execution_count": 15,
   "id": "3634d990-a273-4eb5-b036-b1b3e13968df",
   "metadata": {},
   "outputs": [
    {
     "name": "stdin",
     "output_type": "stream",
     "text": [
      "Enter a character:  -\n"
     ]
    },
    {
     "name": "stdout",
     "output_type": "stream",
     "text": [
      "Special character\n"
     ]
    }
   ],
   "source": [
    "# QUESTION 7\n",
    "char = input(\"Enter a character: \")\n",
    "\n",
    "if char.isalpha():\n",
    "    if char.lower() in \"aeiou\":\n",
    "        print(\"Vowel\")\n",
    "    else:\n",
    "        print(\"Consonant\")\n",
    "elif char.isdigit():\n",
    "    print(\"Digit\")\n",
    "else:\n",
    "    print(\"Special character\")\n"
   ]
  },
  {
   "cell_type": "code",
   "execution_count": 17,
   "id": "ff373563-6f56-438f-8035-521713b55930",
   "metadata": {},
   "outputs": [
    {
     "name": "stdin",
     "output_type": "stream",
     "text": [
      "Enter the current day (e.g., Monday, Tuesday):  monday\n"
     ]
    },
    {
     "name": "stdout",
     "output_type": "stream",
     "text": [
      "Time to work!\n"
     ]
    }
   ],
   "source": [
    "# QUESTION 8\n",
    "day = input(\"Enter the current day (e.g., Monday, Tuesday): \").capitalize()\n",
    "\n",
    "if day == \"Saturday\" or day == \"Sunday\":\n",
    "    print(\"Enjoy your weekend!\")\n",
    "else:\n",
    "    print(\"Time to work!\")\n"
   ]
  },
  {
   "cell_type": "code",
   "execution_count": 19,
   "id": "e9e5d7e9-5998-4e79-b867-e5999a00356a",
   "metadata": {},
   "outputs": [
    {
     "name": "stdin",
     "output_type": "stream",
     "text": [
      "Enter years of service:  5\n",
      "Enter current salary:  200\n"
     ]
    },
    {
     "name": "stdout",
     "output_type": "stream",
     "text": [
      "Bonus amount: 20.0\n"
     ]
    }
   ],
   "source": [
    "# QUESTION 9\n",
    "years = int(input(\"Enter years of service: \"))\n",
    "salary = float(input(\"Enter current salary: \"))\n",
    "\n",
    "if years >= 10:\n",
    "    bonus = 0.20\n",
    "elif years >= 5:\n",
    "    bonus = 0.10\n",
    "else:\n",
    "    bonus = 0.05\n",
    "\n",
    "bonus_amount = salary * bonus\n",
    "print(\"Bonus amount:\", bonus_amount)\n"
   ]
  },
  {
   "cell_type": "code",
   "execution_count": 21,
   "id": "f14650f2-8fc5-4f4e-9fee-b20944551892",
   "metadata": {},
   "outputs": [
    {
     "name": "stdin",
     "output_type": "stream",
     "text": [
      "Enter a number:  3\n"
     ]
    },
    {
     "name": "stdout",
     "output_type": "stream",
     "text": [
      "Positive\n",
      "Odd\n"
     ]
    }
   ],
   "source": [
    "# QUESTION 10\n",
    "num = float(input(\"Enter a number: \"))\n",
    "\n",
    "if num > 0:\n",
    "    print(\"Positive\")\n",
    "    if num % 2 == 0:\n",
    "        print(\"Even\")\n",
    "    else:\n",
    "        print(\"Odd\")\n",
    "elif num < 0:\n",
    "    print(\"Negative\")\n",
    "else:\n",
    "    print(\"Zero\")\n"
   ]
  }
 ],
 "metadata": {
  "kernelspec": {
   "display_name": "Python [conda env:base] *",
   "language": "python",
   "name": "conda-base-py"
  },
  "language_info": {
   "codemirror_mode": {
    "name": "ipython",
    "version": 3
   },
   "file_extension": ".py",
   "mimetype": "text/x-python",
   "name": "python",
   "nbconvert_exporter": "python",
   "pygments_lexer": "ipython3",
   "version": "3.12.7"
  }
 },
 "nbformat": 4,
 "nbformat_minor": 5
}
